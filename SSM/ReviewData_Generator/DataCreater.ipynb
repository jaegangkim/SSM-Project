{
 "cells": [
  {
   "cell_type": "code",
   "execution_count": 2,
   "id": "39816f4b",
   "metadata": {},
   "outputs": [],
   "source": [
    "import pandas as pd\n",
    "import numpy as np\n",
    "import matplotlib.pyplot\n",
    "import wget\n",
    "import random"
   ]
  },
  {
   "cell_type": "code",
   "execution_count": 6,
   "id": "c5d85680",
   "metadata": {},
   "outputs": [],
   "source": [
    "# 네이버 쇼핑 리뷰 데이터\n",
    "shopping_review_data = pd.read_table('./review_data/ratings_total.txt', names=['ratings', 'reviews'])\n",
    "shopping_review_data['label'] = np.select([shopping_review_data.ratings > 3], [1], default=0)\n",
    "\n",
    "shopping_data_list = []\n",
    "\n",
    "# [리뷰, 라벨] 형태로 리스트화\n",
    "for q, label in zip(shopping_review_data['reviews'], shopping_review_data['label']):\n",
    "    shopping_data_list.append([q, str(label)])\n",
    "\n",
    "# 네이버 영화 리뷰 데이터\n",
    "movie_review_train_data = pd.read_table('./review_data/ratings_train.txt', header=0)\n",
    "movie_review_test_data = pd.read_table('./review_data/ratings_test.txt', header=0)\n",
    "\n",
    "movie_data_list = []\n",
    "\n",
    "# [리뷰, 라벨] 형태로 리스트화\n",
    "# [리뷰, 라벨] 형태로 리스트화\n",
    "for q, label in zip(movie_review_train_data['document'], movie_review_train_data['label']):\n",
    "    movie_data_list.append([q, str(label)])\n",
    "\n",
    "for q, label in zip(movie_review_test_data['document'], movie_review_test_data['label']):\n",
    "    movie_data_list.append([q, str(label)])\n",
    "\n",
    "# 쇼핑, 영화 리뷰데이터 합치기\n",
    "data_list = shopping_data_list + movie_data_list\n",
    "\n",
    "random.shuffle(data_list)\n",
    "\n",
    "# 데이터프레임화\n",
    "review = [data[0] for data in data_list]\n",
    "label = [data[1] for data in data_list]\n",
    "\n",
    "df = pd.DataFrame({'review' : review, 'label' : label})\n",
    "df.to_csv('./review_data/final_data.csv', encoding='utf-8-sig', index=False)"
   ]
  }
 ],
 "metadata": {
  "kernelspec": {
   "display_name": "Python 3.9.12 ('base')",
   "language": "python",
   "name": "python3"
  },
  "language_info": {
   "codemirror_mode": {
    "name": "ipython",
    "version": 3
   },
   "file_extension": ".py",
   "mimetype": "text/x-python",
   "name": "python",
   "nbconvert_exporter": "python",
   "pygments_lexer": "ipython3",
   "version": "3.9.12"
  },
  "toc": {
   "base_numbering": 1,
   "nav_menu": {},
   "number_sections": true,
   "sideBar": true,
   "skip_h1_title": false,
   "title_cell": "Table of Contents",
   "title_sidebar": "Contents",
   "toc_cell": false,
   "toc_position": {},
   "toc_section_display": true,
   "toc_window_display": false
  },
  "vscode": {
   "interpreter": {
    "hash": "1f721172b6757ab8aa299fcf7306dbfe33d1c971e0e20ecf792c726e82e04922"
   }
  }
 },
 "nbformat": 4,
 "nbformat_minor": 5
}
