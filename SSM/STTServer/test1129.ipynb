{
 "cells": [
  {
   "cell_type": "code",
   "execution_count": 2,
   "metadata": {},
   "outputs": [],
   "source": [
    "import pandas as pd\n",
    "import numpy as np\n",
    "import matplotlib.pyplot as plt\n",
    "import os"
   ]
  },
  {
   "cell_type": "code",
   "execution_count": 5,
   "metadata": {},
   "outputs": [
    {
     "data": {
      "text/plain": [
       "'c:\\\\2nd_project\\\\SSM\\\\STTServer'"
      ]
     },
     "execution_count": 5,
     "metadata": {},
     "output_type": "execute_result"
    }
   ],
   "source": [
    "%pwd"
   ]
  },
  {
   "cell_type": "code",
   "execution_count": 7,
   "metadata": {},
   "outputs": [],
   "source": [
    "# 멘트 키워드 데이터 호출\n",
    "keyword_data = pd.read_excel('../BroadCast_Data/KEYWORD.xlsx',\n",
    "                            usecols=\"A:C\",\n",
    "                            header=0,\n",
    "                            sheet_name=1,\n",
    "                            index_col=0,\n",
    "                            nrows=65)"
   ]
  },
  {
   "cell_type": "code",
   "execution_count": 12,
   "metadata": {},
   "outputs": [
    {
     "name": "stdout",
     "output_type": "stream",
     "text": [
      "65\n",
      "37\n",
      "28\n"
     ]
    },
    {
     "name": "stderr",
     "output_type": "stream",
     "text": [
      "C:\\Users\\aischool.DESKTOP-T36L3A6\\AppData\\Local\\Temp\\ipykernel_25512\\2132142175.py:8: FutureWarning: The default value of regex will change from True to False in a future version.\n",
      "  data['stt_word'] = data['stt_word'].str.replace(\"[^ㄱ-ㅎㅏ-ㅣ가-힣 ]\",\"\")\n"
     ]
    }
   ],
   "source": [
    "# 방송 STT 데이터 파일 리스트\n",
    "FILEPATH = '../BroadCast_Data/broadcast/'\n",
    "file_list = os.listdir(FILEPATH)\n",
    "\n",
    "data = pd.read_csv(FILEPATH + file_list[0], encoding='euc-kr', index_col=0)\n",
    "\n",
    "# 정규표현식 활용, 한글과 공백 빼고 모두 제거\n",
    "data['stt_word'] = data['stt_word'].str.replace(\"[^ㄱ-ㅎㅏ-ㅣ가-힣 ]\",\"\")\n",
    "data['stt_word'].replace('', np.nan, inplace=True)\n",
    "\n",
    "# 등장 단어 : 등장 시간 리스트 쌍\n",
    "word_appear = {}\n",
    "\n",
    "for i in range(len(keyword_data)):\n",
    "    keyword = keyword_data.iloc[i, 0]\n",
    "    \n",
    "    if keyword not in word_appear:\n",
    "        word_appear[keyword] = []\n",
    "        \n",
    "    word_appear[keyword]= data[data['stt_word'].str.contains(keyword)]['stt_time'].values\n",
    "    \n",
    "# 한번도 안나온 단어들 검색\n",
    "no_word = []\n",
    "for k, v in word_appear.items():\n",
    "    if v.size == 0:\n",
    "        no_word.append(k)\n",
    "\n",
    "print(len(word_appear))\n",
    "print(len(no_word))\n",
    "        \n",
    "for n in no_word:\n",
    "    del word_appear[n]\n",
    "print(len(word_appear))\n",
    "\n"
   ]
  },
  {
   "cell_type": "code",
   "execution_count": 16,
   "metadata": {},
   "outputs": [
    {
     "data": {
      "text/plain": [
       "{'할인': [1, 2, 12, 29],\n",
       " '수면': [17, 47, 48, 51],\n",
       " '자세': [14, 18, 39],\n",
       " '예쁜': [37],\n",
       " '재구매': [21, 22, 31],\n",
       " '저렴': [7, 26, 27, 28],\n",
       " '가격': [2, 3, 4, 6, 7, 19, 20, 26],\n",
       " '핫딜': [12, 18, 54],\n",
       " '사은품': [5, 13, 28, 39, 59],\n",
       " '소재': [25, 46, 46],\n",
       " '입증': [20],\n",
       " '후기': [4, 6, 10, 20, 21, 22, 24, 27, 27, 58],\n",
       " '추천': [23, 28, 31, 52],\n",
       " '출산': [14, 16, 50, 56],\n",
       " '선물': [16],\n",
       " '실물': [6, 31],\n",
       " '이벤트': [3, 9, 9, 13, 14, 21, 41, 58, 59],\n",
       " '부모님': [21, 21],\n",
       " '남편': [23, 54, 54],\n",
       " '대나무': [21, 46],\n",
       " '침대': [31, 58],\n",
       " '바닥': [37, 38, 40, 40, 41],\n",
       " '얇은': [32, 35, 36, 36, 51, 53],\n",
       " '쿠폰': [1, 2, 9, 9, 37, 37, 42, 43, 44, 45],\n",
       " '영상': [30, 38, 54, 56],\n",
       " '비교': [16, 26, 30, 36, 51, 57, 58],\n",
       " '내구성': [25],\n",
       " '촉감': [25]}"
      ]
     },
     "execution_count": 16,
     "metadata": {},
     "output_type": "execute_result"
    }
   ],
   "source": [
    "# 단어 등장 시간 초 -> 분단위로 변환\n",
    "final = {}\n",
    "for key, values in word_appear.items():\n",
    "    temp[key] = [int(v.split(\":\")[0]) for v in values if len(v) < 6]\n",
    "    \n",
    "final"
   ]
  },
  {
   "cell_type": "code",
   "execution_count": 13,
   "metadata": {},
   "outputs": [
    {
     "data": {
      "text/plain": [
       "{'할인': array(['01:00', '02:15', '12:51', '29:32'], dtype=object),\n",
       " '수면': array(['17:45', '47:56', '48:19', '51:57'], dtype=object),\n",
       " '자세': array(['14:55', '18:51', '39:08'], dtype=object),\n",
       " '예쁜': array(['37:19'], dtype=object),\n",
       " '재구매': array(['21:22', '22:41', '31:54'], dtype=object),\n",
       " '저렴': array(['07:34', '26:01', '27:14', '28:21'], dtype=object),\n",
       " '가격': array(['02:40', '03:32', '04:24', '06:31', '07:00', '19:35', '20:27',\n",
       "        '26:01'], dtype=object),\n",
       " '핫딜': array(['12:24', '18:07', '54:27'], dtype=object),\n",
       " '사은품': array(['05:40', '13:18', '28:46', '39:37', '59:20'], dtype=object),\n",
       " '소재': array(['25:01', '46:14', '46:45'], dtype=object),\n",
       " '입증': array(['20:54'], dtype=object),\n",
       " '후기': array(['04:24', '06:09', '10:36', '20:54', '21:22', '22:41', '24:12',\n",
       "        '27:14', '27:59', '58:06'], dtype=object),\n",
       " '추천': array(['23:10', '28:21', '31:29', '52:45'], dtype=object),\n",
       " '출산': array(['14:55', '16:36', '50:07', '56:36'], dtype=object),\n",
       " '선물': array(['16:36'], dtype=object),\n",
       " '실물': array(['06:31', '31:54'], dtype=object),\n",
       " '이벤트': array(['03:56', '09:21', '09:41', '13:37', '14:01', '21:22', '41:50',\n",
       "        '58:53', '59:45'], dtype=object),\n",
       " '부모님': array(['21:22', '21:42'], dtype=object),\n",
       " '남편': array(['23:39', '54:06', '54:27'], dtype=object),\n",
       " '대나무': array(['21:42', '46:14'], dtype=object),\n",
       " '침대': array(['31:29', '58:06'], dtype=object),\n",
       " '바닥': array(['37:50', '38:42', '40:33', '40:55', '41:22'], dtype=object),\n",
       " '얇은': array(['32:44', '35:35', '36:35', '36:59', '51:03', '53:41'], dtype=object),\n",
       " '쿠폰': array(['01:45', '02:15', '09:21', '09:41', '37:19', '37:50', '42:16',\n",
       "        '43:11', '44:03', '45:30'], dtype=object),\n",
       " '영상': array(['30:02', '38:20', '54:27', '56:36'], dtype=object),\n",
       " '비교': array(['16:14', '26:01', '30:02', '36:03', '51:03', '57:42', '58:06'],\n",
       "       dtype=object),\n",
       " '내구성': array(['25:01'], dtype=object),\n",
       " '촉감': array(['25:01'], dtype=object)}"
      ]
     },
     "execution_count": 13,
     "metadata": {},
     "output_type": "execute_result"
    }
   ],
   "source": [
    "word_appear"
   ]
  },
  {
   "cell_type": "code",
   "execution_count": null,
   "metadata": {},
   "outputs": [],
   "source": []
  }
 ],
 "metadata": {
  "kernelspec": {
   "display_name": "Python 3.9.12 ('base')",
   "language": "python",
   "name": "python3"
  },
  "language_info": {
   "codemirror_mode": {
    "name": "ipython",
    "version": 3
   },
   "file_extension": ".py",
   "mimetype": "text/x-python",
   "name": "python",
   "nbconvert_exporter": "python",
   "pygments_lexer": "ipython3",
   "version": "3.9.12"
  },
  "orig_nbformat": 4,
  "vscode": {
   "interpreter": {
    "hash": "1f721172b6757ab8aa299fcf7306dbfe33d1c971e0e20ecf792c726e82e04922"
   }
  }
 },
 "nbformat": 4,
 "nbformat_minor": 2
}
